{
 "cells": [
  {
   "cell_type": "markdown",
   "id": "507563f8",
   "metadata": {},
   "source": [
    "# TODO:\n",
    "- Melhorar o nomeamento\n",
    "- Comentar o código\n",
    "- Adicionar type hints\n",
    "- Adicionar docstrings\n",
    "- Adcionar e treinar o modelo\n",
    "- Melhorar a função addToSet\n",
    "- Juntar partes do código\n",
    "\n",
    "## Docstring example \n",
    "\n",
    "``` python\n",
    "def complex(real=0.0, imag=0.0):\n",
    "    \"\"\"Form a complex number.\n",
    "\n",
    "    Keyword arguments:\n",
    "    real -- the real part (default 0.0)\n",
    "    imag -- the imaginary part (default 0.0)\n",
    "    \"\"\"\n",
    "    if imag == 0.0 and real == 0.0:\n",
    "        return complex_zero\n",
    "    ...\n",
    "\n",
    "```"
   ]
  },
  {
   "cell_type": "code",
   "execution_count": 2,
   "id": "ea8c02d8",
   "metadata": {},
   "outputs": [],
   "source": [
    "# importando algumas bibliotecas\n",
    "import os\n",
    "import numpy as np\n",
    "from numpy import asarray\n",
    "from PIL import Image\n",
    "import matplotlib.pyplot as plt\n",
    "\n",
    "from typing import List\n",
    "\n",
    "# definindo os caminhos para os conjuntos de dados\n",
    "dataset_path = 'DC-ped-dataset_base'\n",
    "train_set_1_path_ped = dataset_path + '/1/ped_examples'\n",
    "train_set_1_path_non_ped = dataset_path  + '/1/non-ped_examples'\n",
    "\n",
    "train_set_2_path_ped = dataset_path + '/2/ped_examples'\n",
    "train_set_2_path_non_ped = dataset_path  + '/2/non-ped_examples'\n",
    "\n",
    "train_set_3_path_ped = dataset_path + '/3/ped_examples'\n",
    "train_set_3_path_non_ped = dataset_path  + '/3/non-ped_examples'\n",
    "\n",
    "train_set_4_path_ped = dataset_path + '/T1/ped_examples'\n",
    "train_set_4_path_non_ped = dataset_path  + '/T1/non-ped_examples'\n",
    "\n",
    "test_set_path_ped = dataset_path + '/T2/ped_examples'\n",
    "test_set_path_non_ped = dataset_path  + '/T2/non-ped_examples'"
   ]
  },
  {
   "cell_type": "code",
   "execution_count": 3,
   "id": "f402e55e",
   "metadata": {},
   "outputs": [],
   "source": [
    "# função que recebe o caminho para as imagens do conjunto de dados e retorna uma matriz numpy correspondente (nesse caso 36 x 18)\n",
    "\n",
    "def addToSet(images_path) -> List:\n",
    "    \"\"\"Retorna uma lista de matrizes das imagens do diretório especificado.\n",
    "    \n",
    "    Keyword arguments:\n",
    "    images_path -- Path to the directory of the images.\n",
    "    \"\"\"\n",
    "    images_data = []\n",
    "    for pgm_image in os.listdir(images_path):\n",
    "        pgm_img = Image.open(os.path.join(images_path, pgm_image))\n",
    "        images_data.append(asarray(pgm_img))\n",
    "    return images_data\n",
    "\n",
    "# criando arrays do numpy com as listas geradas pela função addToSet (treino)\n",
    "train_data_ped_1 = np.array(addToSet(train_set_1_path_ped))\n",
    "train_data_ped_2 = np.array(addToSet(train_set_2_path_ped))\n",
    "train_data_ped_3 = np.array(addToSet(train_set_3_path_ped))\n",
    "train_data_ped_4 = np.array(addToSet(train_set_4_path_ped))\n",
    "\n",
    "# concatenando os dados em 1 conjunto só\n",
    "ped_train_set = np.concatenate((train_data_ped_1,train_data_ped_2, train_data_ped_3, train_data_ped_4))\n",
    "\n",
    "# mesmo processo só que com os dados de não pedestres (treino)\n",
    "train_data_non_ped_1 = np.array(addToSet(train_set_1_path_non_ped))\n",
    "train_data_non_ped_2 = np.array(addToSet(train_set_2_path_non_ped))\n",
    "train_data_non_ped_3 = np.array(addToSet(train_set_3_path_non_ped))\n",
    "train_data_non_ped_4 = np.array(addToSet(train_set_4_path_non_ped))\n",
    "\n",
    "non_ped_train_set = np.concatenate((train_data_non_ped_1, train_data_non_ped_2, train_data_non_ped_3, train_data_non_ped_4))"
   ]
  },
  {
   "cell_type": "code",
   "execution_count": 4,
   "id": "a7ce2900",
   "metadata": {},
   "outputs": [
    {
     "data": {
      "text/plain": [
       "<matplotlib.image.AxesImage at 0x7fd92c7581c0>"
      ]
     },
     "execution_count": 4,
     "metadata": {},
     "output_type": "execute_result"
    },
    {
     "data": {
      "image/png": "[encoded data removed]",
      "text/plain": [
       "<Figure size 432x288 with 1 Axes>"
      ]
     },
     "metadata": {
      "needs_background": "light"
     },
     "output_type": "display_data"
    }
   ],
   "source": [
    "%matplotlib inline\n",
    "plt.imshow(ped_train_set[1])"
   ]
  },
  {
   "cell_type": "code",
   "execution_count": 5,
   "id": "7664641d",
   "metadata": {},
   "outputs": [],
   "source": [
    "test_data_ped = np.array(addToSet(test_set_path_ped))\n",
    "test_data_non_ped = np.array(addToSet(test_set_path_non_ped))\n",
    "\n",
    "test_ped_labels = np.ones(len(test_data_ped))\n",
    "test_non_ped_labels = np.zeros(len(test_data_non_ped))"
   ]
  },
  {
   "cell_type": "code",
   "execution_count": 6,
   "id": "edc61184",
   "metadata": {},
   "outputs": [
    {
     "data": {
      "text/plain": [
       "(36, 18)"
      ]
     },
     "execution_count": 6,
     "metadata": {},
     "output_type": "execute_result"
    }
   ],
   "source": [
    "ped_train_set[1].shape"
   ]
  },
  {
   "cell_type": "code",
   "execution_count": 7,
   "id": "89dd9d67",
   "metadata": {},
   "outputs": [],
   "source": [
    "non_flattened_test_set = np.array(np.concatenate((test_data_ped, test_data_non_ped)))\n",
    "non_shulffled_test_set = non_flattened_test_set.reshape(9800, 648)\n",
    "non_shuffled_test_set_labels = np.array(np.concatenate((test_ped_labels, test_non_ped_labels)))\n",
    "\n",
    "test_set = non_shulffled_test_set\n",
    "test_set_labels = non_shuffled_test_set_labels\n",
    "\n",
    "np.random.seed(17)\n",
    "\n",
    "test_shuffle_index = np.random.permutation(len(test_set))\n",
    "\n",
    "test_set, test_set_labels = test_set[test_shuffle_index], test_set_labels[test_shuffle_index]"
   ]
  },
  {
   "cell_type": "code",
   "execution_count": 8,
   "id": "66be2bed",
   "metadata": {},
   "outputs": [],
   "source": [
    "# criando as labels para as imagens de pedestres dos conjuntos de teste\n",
    "train_ped_labels = []\n",
    "\n",
    "for i in range(0, len(ped_train_set)):\n",
    "    train_ped_labels.append(1) \n",
    "\n",
    "# pedestres serão representados pelo valor 1"
   ]
  },
  {
   "cell_type": "code",
   "execution_count": 9,
   "id": "10f4084a",
   "metadata": {},
   "outputs": [],
   "source": [
    "train_non_ped_labels = []\n",
    "\n",
    "for i in range(0, len(non_ped_train_set)):\n",
    "    train_non_ped_labels.append(0) \n",
    "\n",
    "# não pedestres serão representados pelo valor 0"
   ]
  },
  {
   "cell_type": "code",
   "execution_count": 10,
   "id": "8a441375",
   "metadata": {},
   "outputs": [],
   "source": [
    "# concatenando pedestres com não pedestres e suas respectivas labels\n",
    "train_non_ped_labels = np.array(train_non_ped_labels)\n",
    "train_ped_labels = np.array(train_ped_labels)\n",
    "\n",
    "all_non_shuffled_labels = np.concatenate((train_ped_labels, train_non_ped_labels)) \n",
    "non_shuffled_train_set = np.concatenate((ped_train_set, non_ped_train_set))"
   ]
  },
  {
   "cell_type": "code",
   "execution_count": 11,
   "id": "3cdf3cff",
   "metadata": {},
   "outputs": [],
   "source": [
    "# conjunto de treino final e labels finais\n",
    "non_flattened_train_set, train_set_labels = non_shuffled_train_set, all_non_shuffled_labels\n",
    "\n",
    "train_set = non_flattened_train_set.reshape(39200, 648)\n",
    "\n",
    "np.random.seed(42)\n",
    "\n",
    "# embaralhando os conjuntos de dados e labels\n",
    "shuffle_index = np.random.permutation(len(train_set))\n",
    "train_set, train_set_labels = train_set[shuffle_index], train_set_labels[shuffle_index]"
   ]
  }
 ],
 "metadata": {
  "kernelspec": {
   "display_name": "Python 3 (ipykernel)",
   "language": "python",
   "name": "python3"
  },
  "language_info": {
   "codemirror_mode": {
    "name": "ipython",
    "version": 3
   },
   "file_extension": ".py",
   "mimetype": "text/x-python",
   "name": "python",
   "nbconvert_exporter": "python",
   "pygments_lexer": "ipython3",
   "version": "3.10.12"
  }
 },
 "nbformat": 4,
 "nbformat_minor": 5
}
