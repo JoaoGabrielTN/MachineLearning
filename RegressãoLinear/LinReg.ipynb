{
 "cells": [
  {
   "cell_type": "markdown",
   "metadata": {},
   "source": [
    "# Regressão Linear Versão Matricial\n",
    "## TODO:\n",
    "- Melhorar o nomeamento\n",
    "- Comentar o código\n",
    "- Adicionar type hints\n",
    "- Adicionar docstrings\n",
    "- Explicar a matemática\n",
    "\n",
    "\n",
    "## Docstring example \n",
    "\n",
    "``` python\n",
    "def complex(real=0.0, imag=0.0):\n",
    "    \"\"\"Form a complex number.\n",
    "\n",
    "    Keyword arguments:\n",
    "    real -- the real part (default 0.0)\n",
    "    imag -- the imaginary part (default 0.0)\n",
    "    \"\"\"\n",
    "    if imag == 0.0 and real == 0.0:\n",
    "        return complex_zero\n",
    "    ...\n",
    "\n",
    "```"
   ]
  },
  {
   "cell_type": "code",
   "execution_count": 1,
   "metadata": {},
   "outputs": [],
   "source": [
    "import numpy as np"
   ]
  },
  {
   "cell_type": "code",
   "execution_count": 23,
   "metadata": {},
   "outputs": [
    {
     "data": {
      "text/plain": [
       "array([[1., 0., 0.],\n",
       "       [1., 0., 1.],\n",
       "       [1., 1., 0.],\n",
       "       [1., 1., 1.]])"
      ]
     },
     "execution_count": 23,
     "metadata": {},
     "output_type": "execute_result"
    }
   ],
   "source": [
    "data = np.asarray(((0, 0), (0, 1), (1, 0), (1, 1)))\n",
    "data_b = np.c_[np.ones((4, 1)), data] # Adciona a0 às entradas\n",
    "data_b"
   ]
  },
  {
   "cell_type": "markdown",
   "metadata": {},
   "source": [
    "É necessário adicionar $x_0 = 1$ nos vetores de caractéristicas. É a forma de adicionar o parâmetro de viés no cálculo. Essa operação é realizada pela seguinte linha de código:\n",
    "\n",
    "``` python\n",
    "\n",
    "data_b = np.c_[np.ones((4, 1)), data]\n",
    "\n",
    "```\n",
    "A matriz data tem ordem 4x2, np.c_ retorna uma combinação de uma matriz de ordem 4x1 de elementos 1 e data."
   ]
  },
  {
   "cell_type": "code",
   "execution_count": 18,
   "metadata": {},
   "outputs": [
    {
     "data": {
      "text/plain": [
       "array([0, 0, 0, 1])"
      ]
     },
     "execution_count": 18,
     "metadata": {},
     "output_type": "execute_result"
    }
   ],
   "source": [
    "y = np.asarray((0, 0, 0, 1))\n",
    "y"
   ]
  },
  {
   "cell_type": "code",
   "execution_count": 44,
   "metadata": {},
   "outputs": [
    {
     "data": {
      "text/plain": [
       "(1, 3)"
      ]
     },
     "execution_count": 44,
     "metadata": {},
     "output_type": "execute_result"
    }
   ],
   "source": [
    "theta = np.linalg.inv((np.dot(data_b.T, data_b))).dot(data_b.T).dot(y)\n",
    "theta = theta.reshape(1, 3)\n",
    "theta.shape"
   ]
  },
  {
   "cell_type": "code",
   "execution_count": 43,
   "metadata": {},
   "outputs": [
    {
     "data": {
      "text/plain": [
       "array([[1., 1., 1.]])"
      ]
     },
     "execution_count": 43,
     "metadata": {},
     "output_type": "execute_result"
    }
   ],
   "source": [
    "t = np.asarray([[1, 1]])\n",
    "t_b = np.c_[np.ones(1), t]\n",
    "t_b"
   ]
  },
  {
   "cell_type": "code",
   "execution_count": 45,
   "metadata": {},
   "outputs": [
    {
     "data": {
      "text/plain": [
       "array([[0.75]])"
      ]
     },
     "execution_count": 45,
     "metadata": {},
     "output_type": "execute_result"
    }
   ],
   "source": [
    "theta.dot(t_b.T)"
   ]
  },
  {
   "cell_type": "code",
   "execution_count": 47,
   "metadata": {},
   "outputs": [
    {
     "data": {
      "text/plain": [
       "(-0.25, array([0.5, 0.5]))"
      ]
     },
     "execution_count": 47,
     "metadata": {},
     "output_type": "execute_result"
    }
   ],
   "source": [
    "from sklearn.linear_model import LinearRegression\n",
    "lin_reg = LinearRegression()\n",
    "lin_reg.fit(data, y)\n",
    "lin_reg.intercept_, lin_reg.coef_"
   ]
  },
  {
   "cell_type": "code",
   "execution_count": 48,
   "metadata": {},
   "outputs": [
    {
     "data": {
      "text/plain": [
       "array([0.75])"
      ]
     },
     "execution_count": 48,
     "metadata": {},
     "output_type": "execute_result"
    }
   ],
   "source": [
    "lin_reg.predict(t)"
   ]
  }
 ],
 "metadata": {
  "kernelspec": {
   "display_name": "Python 3",
   "language": "python",
   "name": "python3"
  },
  "language_info": {
   "codemirror_mode": {
    "name": "ipython",
    "version": 3
   },
   "file_extension": ".py",
   "mimetype": "text/x-python",
   "name": "python",
   "nbconvert_exporter": "python",
   "pygments_lexer": "ipython3",
   "version": "3.10.12"
  }
 },
 "nbformat": 4,
 "nbformat_minor": 2
}
