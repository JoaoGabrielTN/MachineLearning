{
 "cells": [
  {
   "cell_type": "markdown",
   "metadata": {},
   "source": [
    "#  Neurônio MCP\n",
    "## TODO:\n",
    "- Melhorar o nomeamento\n",
    "- Comentar o código\n",
    "- Adicionar type hints\n",
    "- Adicionar docstrings\n",
    "- Adicionar explicar a matemática\n",
    "- Adicionar blocos Markdown para os casos AND e OR\n",
    "\n",
    "## Docstring example \n",
    "\n",
    "``` python\n",
    "def complex(real=0.0, imag=0.0):\n",
    "    \"\"\"Form a complex number.\n",
    "\n",
    "    Keyword arguments:\n",
    "    real -- the real part (default 0.0)\n",
    "    imag -- the imaginary part (default 0.0)\n",
    "    \"\"\"\n",
    "    if imag == 0.0 and real == 0.0:\n",
    "        return complex_zero\n",
    "    ...\n",
    "\n",
    "```"
   ]
  },
  {
   "cell_type": "code",
   "execution_count": 3,
   "metadata": {},
   "outputs": [],
   "source": [
    "import numpy as np\n",
    "import numpy.typing as npt"
   ]
  },
  {
   "cell_type": "code",
   "execution_count": 4,
   "metadata": {},
   "outputs": [],
   "source": [
    "def MCP(X: npt.ArrayLike, w: npt.ArrayLike, theta: float) -> npt.ArrayLike:\n",
    "    \"\"\"Return a numpy array with the predictions from the MCP neuron.\n",
    "\n",
    "    Keyword arguments:\n",
    "    X -- a matrix containing the feature vectors \n",
    "    w -- the parameters vector\n",
    "    theta -- the threshold for the MCP\n",
    "    \"\"\"\n",
    "    \n",
    "    w = np.c_[np.zeros(w.shape[0]) + theta, w]\n",
    "    return np.where(w.dot(X.T) <= 0, 0, 1)"
   ]
  },
  {
   "cell_type": "code",
   "execution_count": 5,
   "metadata": {},
   "outputs": [
    {
     "data": {
      "text/plain": [
       "array([[1., 0., 0.],\n",
       "       [1., 0., 1.],\n",
       "       [1., 1., 0.],\n",
       "       [1., 1., 1.]])"
      ]
     },
     "execution_count": 5,
     "metadata": {},
     "output_type": "execute_result"
    }
   ],
   "source": [
    "theta = 1.0\n",
    "w =  np.array([[-0.5, -0.6]])\n",
    "X = np.array([[0, 0], [0, 1], [1, 0], [1, 1]])\n",
    "X = np.c_[np.zeros(X.shape[0]).T + 1, X]\n",
    "X"
   ]
  },
  {
   "cell_type": "code",
   "execution_count": 6,
   "metadata": {},
   "outputs": [
    {
     "data": {
      "text/plain": [
       "array([[1, 1, 1, 0]])"
      ]
     },
     "execution_count": 6,
     "metadata": {},
     "output_type": "execute_result"
    }
   ],
   "source": [
    "MCP(X, w, theta)"
   ]
  },
  {
   "cell_type": "code",
   "execution_count": 9,
   "metadata": {},
   "outputs": [
    {
     "name": "stdout",
     "output_type": "stream",
     "text": [
      "[[1. 0. 0.]\n",
      " [1. 0. 1.]\n",
      " [1. 1. 0.]\n",
      " [1. 1. 1.]]\n"
     ]
    }
   ],
   "source": [
    "from MCP import MCP\n",
    "perceptron = MCP()\n",
    "X = np.array([[0, 0], [0, 1], [1, 0], [1, 1]])\n",
    "perceptron.fit(X)"
   ]
  }
 ],
 "metadata": {
  "kernelspec": {
   "display_name": "Python 3",
   "language": "python",
   "name": "python3"
  },
  "language_info": {
   "codemirror_mode": {
    "name": "ipython",
    "version": 3
   },
   "file_extension": ".py",
   "mimetype": "text/x-python",
   "name": "python",
   "nbconvert_exporter": "python",
   "pygments_lexer": "ipython3",
   "version": "3.10.12"
  }
 },
 "nbformat": 4,
 "nbformat_minor": 2
}
