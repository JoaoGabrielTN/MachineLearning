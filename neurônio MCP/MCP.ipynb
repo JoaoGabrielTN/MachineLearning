{
 "cells": [
  {
   "cell_type": "markdown",
   "metadata": {},
   "source": [
    "#  Neurônio MCP\n",
    "## TODO:\n",
    "- Melhorar o nomeamento\n",
    "- Comentar o código\n",
    "- Adicionar type hints\n",
    "- Adicionar docstrings\n",
    "- Adicionar explicar a matemática\n",
    "- Adicionar blocos Markdown para os casos AND e OR\n",
    "\n",
    "## Docstring example \n",
    "\n",
    "``` python\n",
    "def complex(real=0.0, imag=0.0):\n",
    "    \"\"\"Form a complex number.\n",
    "\n",
    "    Keyword arguments:\n",
    "    real -- the real part (default 0.0)\n",
    "    imag -- the imaginary part (default 0.0)\n",
    "    \"\"\"\n",
    "    if imag == 0.0 and real == 0.0:\n",
    "        return complex_zero\n",
    "    ...\n",
    "\n",
    "```"
   ]
  },
  {
   "cell_type": "code",
   "execution_count": 1,
   "metadata": {},
   "outputs": [],
   "source": [
    "import numpy as np\n",
    "import numpy.typing as npt"
   ]
  },
  {
   "cell_type": "code",
   "execution_count": 48,
   "metadata": {},
   "outputs": [],
   "source": [
    "def MCP(X: npt.ArrayLike, w: npt.ArrayLike, theta: float) -> npt.ArrayLike:\n",
    "    \"\"\"Return a numpy array with the predictions from the MCP neuron.\n",
    "\n",
    "    Keyword arguments:\n",
    "    X -- a matrix containing the feature vectors \n",
    "    w -- the parameters vector\n",
    "    theta -- the threshold for the MCP\n",
    "    \"\"\"\n",
    "    return np.where(w.T.dot(X)-theta <= 0, 0, 1)"
   ]
  },
  {
   "cell_type": "code",
   "execution_count": 35,
   "metadata": {},
   "outputs": [
    {
     "data": {
      "text/plain": [
       "(2, 1)"
      ]
     },
     "execution_count": 35,
     "metadata": {},
     "output_type": "execute_result"
    }
   ],
   "source": [
    "theta = 1\n",
    "w =  np.array([[0.5, 0.6]])\n",
    "w = w.reshape(2, 1)                             \n",
    "X = np.array([[0, 0], [0, 1], [1, 0], [1, 1]])\n",
    "X = X.reshape(2, 4)                             "
   ]
  },
  {
   "cell_type": "code",
   "execution_count": 44,
   "metadata": {},
   "outputs": [
    {
     "data": {
      "text/plain": [
       "array([[0, 0, 0, 1]])"
      ]
     },
     "execution_count": 44,
     "metadata": {},
     "output_type": "execute_result"
    }
   ],
   "source": [
    "np.where(w.T.dot(X)-theta <= 0, 0, 1)"
   ]
  },
  {
   "cell_type": "code",
   "execution_count": 45,
   "metadata": {},
   "outputs": [],
   "source": [
    "theta = -1.0\n",
    "w =  np.array([[-0.5, -0.6]])\n",
    "w = w.reshape(2, 1)                             # Vetor coluna\n",
    "X = np.array([[0, 0], [0, 1], [1, 0], [1, 1]])\n",
    "X = X.reshape(2, 4)                             "
   ]
  },
  {
   "cell_type": "code",
   "execution_count": 49,
   "metadata": {},
   "outputs": [
    {
     "data": {
      "text/plain": [
       "array([[1, 1, 1, 0]])"
      ]
     },
     "execution_count": 49,
     "metadata": {},
     "output_type": "execute_result"
    }
   ],
   "source": [
    "MCP(X, w, theta)"
   ]
  }
 ],
 "metadata": {
  "kernelspec": {
   "display_name": "Python 3",
   "language": "python",
   "name": "python3"
  },
  "language_info": {
   "codemirror_mode": {
    "name": "ipython",
    "version": 3
   },
   "file_extension": ".py",
   "mimetype": "text/x-python",
   "name": "python",
   "nbconvert_exporter": "python",
   "pygments_lexer": "ipython3",
   "version": "3.10.12"
  }
 },
 "nbformat": 4,
 "nbformat_minor": 2
}
