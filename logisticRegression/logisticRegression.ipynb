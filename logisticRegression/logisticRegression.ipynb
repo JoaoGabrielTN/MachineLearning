{
 "cells": [
  {
   "cell_type": "markdown",
   "metadata": {},
   "source": [
    "# Useful links\n",
    "\n",
    "- https://pytorch.org/docs/stable/generated/torch.nn.BCELoss.html\n",
    "- https://timvieira.github.io/blog/post/2014/02/11/exp-normalize-trick/\n",
    "- https://developer.ibm.com/articles/implementing-logistic-regression-from-scratch-in-python/"
   ]
  },
  {
   "cell_type": "code",
   "execution_count": 48,
   "metadata": {},
   "outputs": [],
   "source": [
    "import numpy as np\n",
    "from copy import deepcopy\n",
    "import matplotlib.pyplot as plt"
   ]
  },
  {
   "cell_type": "code",
   "execution_count": 11,
   "metadata": {},
   "outputs": [],
   "source": [
    "train_set = np.load(\"pedtrainset.npy\")\n",
    "train_set_labels = np.load(\"pedtrainlabels.npy\")\n",
    "test_set = np.load(\"pedtestset.npy\")\n",
    "test_set_labels = np.load(\"pedtestlabels.npy\")"
   ]
  },
  {
   "cell_type": "code",
   "execution_count": 52,
   "metadata": {},
   "outputs": [
    {
     "data": {
      "text/plain": [
       "<matplotlib.image.AxesImage at 0x7fd6c26bead0>"
      ]
     },
     "execution_count": 52,
     "metadata": {},
     "output_type": "execute_result"
    },
    {
     "data": {
      "image/png": "[encoded data removed]",
      "text/plain": [
       "<Figure size 432x288 with 1 Axes>"
      ]
     },
     "metadata": {
      "needs_background": "light"
     },
     "output_type": "display_data"
    }
   ],
   "source": [
    "copy_cat = deepcopy(train_set)\n",
    "copy_cat = copy_cat.reshape(39200, 36, 18)\n",
    "plt.imshow(copy_cat[0])"
   ]
  },
  {
   "cell_type": "code",
   "execution_count": 82,
   "metadata": {},
   "outputs": [
    {
     "data": {
      "text/plain": [
       "array([54366, 51687, 88977, ..., 53254, 62871, 54448], dtype=uint64)"
      ]
     },
     "execution_count": 82,
     "metadata": {},
     "output_type": "execute_result"
    }
   ],
   "source": [
    "np.sum(train_set, axis=1)"
   ]
  },
  {
   "cell_type": "code",
   "execution_count": 14,
   "metadata": {},
   "outputs": [
    {
     "data": {
      "text/plain": [
       "(9800, 648)"
      ]
     },
     "execution_count": 14,
     "metadata": {},
     "output_type": "execute_result"
    }
   ],
   "source": [
    "test_set.shape"
   ]
  },
  {
   "cell_type": "code",
   "execution_count": 15,
   "metadata": {},
   "outputs": [
    {
     "data": {
      "text/plain": [
       "(9800,)"
      ]
     },
     "execution_count": 15,
     "metadata": {},
     "output_type": "execute_result"
    }
   ],
   "source": [
    "test_set_labels.shape"
   ]
  },
  {
   "cell_type": "code",
   "execution_count": 16,
   "metadata": {},
   "outputs": [],
   "source": [
    "def sigmoid_function(z):\n",
    "    # Use the property sigmoid(z) = 1 / (1 + exp(-z)) to handle large z values\n",
    "    if z >= 0:\n",
    "        return 1.0 / (1.0 + np.exp(-z))\n",
    "    else:\n",
    "        a = np.exp(z)\n",
    "        return a / (1.0 + a)\n"
   ]
  },
  {
   "cell_type": "code",
   "execution_count": 17,
   "metadata": {},
   "outputs": [],
   "source": [
    "def BinaryCrossEntropy(y, y_hat, e = 1e-15) -> float:\n",
    "    y_hat = np.clip(y_hat, e, 1 - e)\n",
    "    term_0 = (1 - y) * np.log(1 - y_hat + e)  \n",
    "    term_1 = y * np.log(y_hat + e)  \n",
    "    return -np.mean(term_0 + term_1)"
   ]
  },
  {
   "cell_type": "code",
   "execution_count": 59,
   "metadata": {},
   "outputs": [],
   "source": [
    "def compute_gradients(x, y_true, y_pred):\n",
    "    # derivative of binary cross entropy\n",
    "    difference =  y_pred - y_true\n",
    "    gradient_b = np.mean(difference)\n",
    "    gradients_w = np.matmul(x.transpose(), difference)\n",
    "    gradients_w = np.array([np.mean(grad) for grad in gradients_w])\n",
    "\n",
    "    return gradients_w, gradient_b"
   ]
  },
  {
   "cell_type": "code",
   "execution_count": 34,
   "metadata": {},
   "outputs": [],
   "source": [
    "w = np.random.rand(1, 648)\n",
    "b = 1"
   ]
  },
  {
   "cell_type": "code",
   "execution_count": 83,
   "metadata": {},
   "outputs": [
    {
     "data": {
      "text/plain": [
       "(1, 39200)"
      ]
     },
     "execution_count": 83,
     "metadata": {},
     "output_type": "execute_result"
    }
   ],
   "source": [
    "z = np.matmul(w, train_set.T) + b\n",
    "z.shape"
   ]
  },
  {
   "cell_type": "code",
   "execution_count": 90,
   "metadata": {},
   "outputs": [
    {
     "data": {
      "text/plain": [
       "-0.5102040816326531"
      ]
     },
     "execution_count": 90,
     "metadata": {},
     "output_type": "execute_result"
    }
   ],
   "source": [
    "yhat = 1/(1+np.exp(-z))\n",
    "dz = train_set_labels - yhat \n"
   ]
  },
  {
   "cell_type": "code",
   "execution_count": 63,
   "metadata": {},
   "outputs": [],
   "source": [
    "epochs = 1\n",
    "for i in range(epochs):\n",
    "    z = np.matmul(w, train_set.T) + b # OK\n",
    "    yhat = 1/(1+np.exp(-z))           # OK \n",
    "    dz = train_set_labels - yhat      # OK\n",
    "    db = np.mean(dz)"
   ]
  }
 ],
 "metadata": {
  "kernelspec": {
   "display_name": "Python 3",
   "language": "python",
   "name": "python3"
  },
  "language_info": {
   "codemirror_mode": {
    "name": "ipython",
    "version": 3
   },
   "file_extension": ".py",
   "mimetype": "text/x-python",
   "name": "python",
   "nbconvert_exporter": "python",
   "pygments_lexer": "ipython3",
   "version": "3.10.12"
  }
 },
 "nbformat": 4,
 "nbformat_minor": 2
}
